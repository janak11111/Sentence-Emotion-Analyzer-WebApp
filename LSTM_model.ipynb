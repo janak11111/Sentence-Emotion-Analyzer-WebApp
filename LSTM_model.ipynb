{
  "nbformat": 4,
  "nbformat_minor": 0,
  "metadata": {
    "colab": {
      "provenance": []
    },
    "kernelspec": {
      "name": "python3",
      "display_name": "Python 3"
    },
    "language_info": {
      "name": "python"
    },
    "accelerator": "GPU",
    "gpuClass": "standard"
  },
  "cells": [
    {
      "cell_type": "code",
      "execution_count": null,
      "metadata": {
        "id": "gAKcpEl4CPWr"
      },
      "outputs": [],
      "source": [
        "# import libaries\n",
        "import pandas as pd\n",
        "import numpy as np\n",
        "import torch\n",
        "import torch.nn as nn\n",
        "import seaborn as sns\n",
        "from sklearn.model_selection import train_test_split\n",
        "from sklearn.metrics import classification_report\n",
        "from torch.utils.data import Dataset, DataLoader\n",
        "from torch.nn.functional import pad\n",
        "import matplotlib.pyplot as plt\n",
        "from keras.preprocessing.text import Tokenizer\n",
        "from keras.utils import pad_sequences\n",
        "from keras.models import Sequential\n",
        "from keras.layers import Dense, BatchNormalization, Embedding, LSTM, SpatialDropout1D\n",
        "from keras.callbacks import EarlyStopping\n",
        "from keras.layers import Dropout\n",
        "from tensorflow import keras\n",
        "from sklearn.metrics import classification_report, confusion_matrix"
      ]
    },
    {
      "cell_type": "code",
      "source": [
        "# set the device\n",
        "device = torch.device('cuda' if torch.cuda.is_available() else 'cpu')\n",
        "device"
      ],
      "metadata": {
        "colab": {
          "base_uri": "https://localhost:8080/"
        },
        "id": "qrMqXsifc_uW",
        "outputId": "c4df92cc-d845-4112-accd-c2e4ee8dbd92"
      },
      "execution_count": null,
      "outputs": [
        {
          "output_type": "execute_result",
          "data": {
            "text/plain": [
              "device(type='cuda')"
            ]
          },
          "metadata": {},
          "execution_count": 2
        }
      ]
    },
    {
      "cell_type": "code",
      "source": [
        "# laod the dataset\n",
        "df = pd.read_csv('big_dataset.csv')\n",
        "print(df.shape)\n",
        "df.head()"
      ],
      "metadata": {
        "colab": {
          "base_uri": "https://localhost:8080/",
          "height": 224
        },
        "id": "I9h2BWcwHq4v",
        "outputId": "137d70f1-5e4f-432c-abd5-8f0340450488"
      },
      "execution_count": null,
      "outputs": [
        {
          "output_type": "stream",
          "name": "stdout",
          "text": [
            "(22408, 3)\n"
          ]
        },
        {
          "output_type": "execute_result",
          "data": {
            "text/plain": [
              "                                         clean_tweet emotion  label\n",
              "0       time ticking fast relive past happy joy face   happy      3\n",
              "1  happy birthday one hot love much amazing frien...   happy      3\n",
              "2  best cheer left min cant save happy like treas...   happy      3\n",
              "3  good morning wishing day filled sunshine happi...   happy      3\n",
              "4  eric movie made happy several way think rely s...   happy      3"
            ],
            "text/html": [
              "\n",
              "  <div id=\"df-06687eae-a75a-4bf6-8530-6de35ca29316\">\n",
              "    <div class=\"colab-df-container\">\n",
              "      <div>\n",
              "<style scoped>\n",
              "    .dataframe tbody tr th:only-of-type {\n",
              "        vertical-align: middle;\n",
              "    }\n",
              "\n",
              "    .dataframe tbody tr th {\n",
              "        vertical-align: top;\n",
              "    }\n",
              "\n",
              "    .dataframe thead th {\n",
              "        text-align: right;\n",
              "    }\n",
              "</style>\n",
              "<table border=\"1\" class=\"dataframe\">\n",
              "  <thead>\n",
              "    <tr style=\"text-align: right;\">\n",
              "      <th></th>\n",
              "      <th>clean_tweet</th>\n",
              "      <th>emotion</th>\n",
              "      <th>label</th>\n",
              "    </tr>\n",
              "  </thead>\n",
              "  <tbody>\n",
              "    <tr>\n",
              "      <th>0</th>\n",
              "      <td>time ticking fast relive past happy joy face</td>\n",
              "      <td>happy</td>\n",
              "      <td>3</td>\n",
              "    </tr>\n",
              "    <tr>\n",
              "      <th>1</th>\n",
              "      <td>happy birthday one hot love much amazing frien...</td>\n",
              "      <td>happy</td>\n",
              "      <td>3</td>\n",
              "    </tr>\n",
              "    <tr>\n",
              "      <th>2</th>\n",
              "      <td>best cheer left min cant save happy like treas...</td>\n",
              "      <td>happy</td>\n",
              "      <td>3</td>\n",
              "    </tr>\n",
              "    <tr>\n",
              "      <th>3</th>\n",
              "      <td>good morning wishing day filled sunshine happi...</td>\n",
              "      <td>happy</td>\n",
              "      <td>3</td>\n",
              "    </tr>\n",
              "    <tr>\n",
              "      <th>4</th>\n",
              "      <td>eric movie made happy several way think rely s...</td>\n",
              "      <td>happy</td>\n",
              "      <td>3</td>\n",
              "    </tr>\n",
              "  </tbody>\n",
              "</table>\n",
              "</div>\n",
              "      <button class=\"colab-df-convert\" onclick=\"convertToInteractive('df-06687eae-a75a-4bf6-8530-6de35ca29316')\"\n",
              "              title=\"Convert this dataframe to an interactive table.\"\n",
              "              style=\"display:none;\">\n",
              "        \n",
              "  <svg xmlns=\"http://www.w3.org/2000/svg\" height=\"24px\"viewBox=\"0 0 24 24\"\n",
              "       width=\"24px\">\n",
              "    <path d=\"M0 0h24v24H0V0z\" fill=\"none\"/>\n",
              "    <path d=\"M18.56 5.44l.94 2.06.94-2.06 2.06-.94-2.06-.94-.94-2.06-.94 2.06-2.06.94zm-11 1L8.5 8.5l.94-2.06 2.06-.94-2.06-.94L8.5 2.5l-.94 2.06-2.06.94zm10 10l.94 2.06.94-2.06 2.06-.94-2.06-.94-.94-2.06-.94 2.06-2.06.94z\"/><path d=\"M17.41 7.96l-1.37-1.37c-.4-.4-.92-.59-1.43-.59-.52 0-1.04.2-1.43.59L10.3 9.45l-7.72 7.72c-.78.78-.78 2.05 0 2.83L4 21.41c.39.39.9.59 1.41.59.51 0 1.02-.2 1.41-.59l7.78-7.78 2.81-2.81c.8-.78.8-2.07 0-2.86zM5.41 20L4 18.59l7.72-7.72 1.47 1.35L5.41 20z\"/>\n",
              "  </svg>\n",
              "      </button>\n",
              "      \n",
              "  <style>\n",
              "    .colab-df-container {\n",
              "      display:flex;\n",
              "      flex-wrap:wrap;\n",
              "      gap: 12px;\n",
              "    }\n",
              "\n",
              "    .colab-df-convert {\n",
              "      background-color: #E8F0FE;\n",
              "      border: none;\n",
              "      border-radius: 50%;\n",
              "      cursor: pointer;\n",
              "      display: none;\n",
              "      fill: #1967D2;\n",
              "      height: 32px;\n",
              "      padding: 0 0 0 0;\n",
              "      width: 32px;\n",
              "    }\n",
              "\n",
              "    .colab-df-convert:hover {\n",
              "      background-color: #E2EBFA;\n",
              "      box-shadow: 0px 1px 2px rgba(60, 64, 67, 0.3), 0px 1px 3px 1px rgba(60, 64, 67, 0.15);\n",
              "      fill: #174EA6;\n",
              "    }\n",
              "\n",
              "    [theme=dark] .colab-df-convert {\n",
              "      background-color: #3B4455;\n",
              "      fill: #D2E3FC;\n",
              "    }\n",
              "\n",
              "    [theme=dark] .colab-df-convert:hover {\n",
              "      background-color: #434B5C;\n",
              "      box-shadow: 0px 1px 3px 1px rgba(0, 0, 0, 0.15);\n",
              "      filter: drop-shadow(0px 1px 2px rgba(0, 0, 0, 0.3));\n",
              "      fill: #FFFFFF;\n",
              "    }\n",
              "  </style>\n",
              "\n",
              "      <script>\n",
              "        const buttonEl =\n",
              "          document.querySelector('#df-06687eae-a75a-4bf6-8530-6de35ca29316 button.colab-df-convert');\n",
              "        buttonEl.style.display =\n",
              "          google.colab.kernel.accessAllowed ? 'block' : 'none';\n",
              "\n",
              "        async function convertToInteractive(key) {\n",
              "          const element = document.querySelector('#df-06687eae-a75a-4bf6-8530-6de35ca29316');\n",
              "          const dataTable =\n",
              "            await google.colab.kernel.invokeFunction('convertToInteractive',\n",
              "                                                     [key], {});\n",
              "          if (!dataTable) return;\n",
              "\n",
              "          const docLinkHtml = 'Like what you see? Visit the ' +\n",
              "            '<a target=\"_blank\" href=https://colab.research.google.com/notebooks/data_table.ipynb>data table notebook</a>'\n",
              "            + ' to learn more about interactive tables.';\n",
              "          element.innerHTML = '';\n",
              "          dataTable['output_type'] = 'display_data';\n",
              "          await google.colab.output.renderOutput(dataTable, element);\n",
              "          const docLink = document.createElement('div');\n",
              "          docLink.innerHTML = docLinkHtml;\n",
              "          element.appendChild(docLink);\n",
              "        }\n",
              "      </script>\n",
              "    </div>\n",
              "  </div>\n",
              "  "
            ]
          },
          "metadata": {},
          "execution_count": 3
        }
      ]
    },
    {
      "cell_type": "code",
      "source": [
        "# drop the null values\n",
        "df = df.dropna(axis=0)\n",
        "df.isna().sum()"
      ],
      "metadata": {
        "colab": {
          "base_uri": "https://localhost:8080/"
        },
        "id": "iC9ShIU1KVrU",
        "outputId": "becfb340-f8c6-4f93-cb0d-21e1ed237a0e"
      },
      "execution_count": null,
      "outputs": [
        {
          "output_type": "execute_result",
          "data": {
            "text/plain": [
              "clean_tweet    0\n",
              "emotion        0\n",
              "label          0\n",
              "dtype: int64"
            ]
          },
          "metadata": {},
          "execution_count": 4
        }
      ]
    },
    {
      "cell_type": "code",
      "source": [
        "df['length'] = df.clean_tweet.apply(lambda x: len([s for s in x.split()]))\n",
        "df['label'] = df.label.apply(int)\n",
        "df.head()"
      ],
      "metadata": {
        "colab": {
          "base_uri": "https://localhost:8080/",
          "height": 206
        },
        "id": "tk_I5rCJ3T-f",
        "outputId": "74854850-7565-43ce-c878-10df0d1a17ee"
      },
      "execution_count": null,
      "outputs": [
        {
          "output_type": "execute_result",
          "data": {
            "text/plain": [
              "                                         clean_tweet emotion  label  length\n",
              "0       time ticking fast relive past happy joy face   happy      3       8\n",
              "1  happy birthday one hot love much amazing frien...   happy      3      19\n",
              "2  best cheer left min cant save happy like treas...   happy      3      12\n",
              "3  good morning wishing day filled sunshine happi...   happy      3      17\n",
              "4  eric movie made happy several way think rely s...   happy      3      18"
            ],
            "text/html": [
              "\n",
              "  <div id=\"df-51256d90-9295-42b7-99f3-0f9432744cd4\">\n",
              "    <div class=\"colab-df-container\">\n",
              "      <div>\n",
              "<style scoped>\n",
              "    .dataframe tbody tr th:only-of-type {\n",
              "        vertical-align: middle;\n",
              "    }\n",
              "\n",
              "    .dataframe tbody tr th {\n",
              "        vertical-align: top;\n",
              "    }\n",
              "\n",
              "    .dataframe thead th {\n",
              "        text-align: right;\n",
              "    }\n",
              "</style>\n",
              "<table border=\"1\" class=\"dataframe\">\n",
              "  <thead>\n",
              "    <tr style=\"text-align: right;\">\n",
              "      <th></th>\n",
              "      <th>clean_tweet</th>\n",
              "      <th>emotion</th>\n",
              "      <th>label</th>\n",
              "      <th>length</th>\n",
              "    </tr>\n",
              "  </thead>\n",
              "  <tbody>\n",
              "    <tr>\n",
              "      <th>0</th>\n",
              "      <td>time ticking fast relive past happy joy face</td>\n",
              "      <td>happy</td>\n",
              "      <td>3</td>\n",
              "      <td>8</td>\n",
              "    </tr>\n",
              "    <tr>\n",
              "      <th>1</th>\n",
              "      <td>happy birthday one hot love much amazing frien...</td>\n",
              "      <td>happy</td>\n",
              "      <td>3</td>\n",
              "      <td>19</td>\n",
              "    </tr>\n",
              "    <tr>\n",
              "      <th>2</th>\n",
              "      <td>best cheer left min cant save happy like treas...</td>\n",
              "      <td>happy</td>\n",
              "      <td>3</td>\n",
              "      <td>12</td>\n",
              "    </tr>\n",
              "    <tr>\n",
              "      <th>3</th>\n",
              "      <td>good morning wishing day filled sunshine happi...</td>\n",
              "      <td>happy</td>\n",
              "      <td>3</td>\n",
              "      <td>17</td>\n",
              "    </tr>\n",
              "    <tr>\n",
              "      <th>4</th>\n",
              "      <td>eric movie made happy several way think rely s...</td>\n",
              "      <td>happy</td>\n",
              "      <td>3</td>\n",
              "      <td>18</td>\n",
              "    </tr>\n",
              "  </tbody>\n",
              "</table>\n",
              "</div>\n",
              "      <button class=\"colab-df-convert\" onclick=\"convertToInteractive('df-51256d90-9295-42b7-99f3-0f9432744cd4')\"\n",
              "              title=\"Convert this dataframe to an interactive table.\"\n",
              "              style=\"display:none;\">\n",
              "        \n",
              "  <svg xmlns=\"http://www.w3.org/2000/svg\" height=\"24px\"viewBox=\"0 0 24 24\"\n",
              "       width=\"24px\">\n",
              "    <path d=\"M0 0h24v24H0V0z\" fill=\"none\"/>\n",
              "    <path d=\"M18.56 5.44l.94 2.06.94-2.06 2.06-.94-2.06-.94-.94-2.06-.94 2.06-2.06.94zm-11 1L8.5 8.5l.94-2.06 2.06-.94-2.06-.94L8.5 2.5l-.94 2.06-2.06.94zm10 10l.94 2.06.94-2.06 2.06-.94-2.06-.94-.94-2.06-.94 2.06-2.06.94z\"/><path d=\"M17.41 7.96l-1.37-1.37c-.4-.4-.92-.59-1.43-.59-.52 0-1.04.2-1.43.59L10.3 9.45l-7.72 7.72c-.78.78-.78 2.05 0 2.83L4 21.41c.39.39.9.59 1.41.59.51 0 1.02-.2 1.41-.59l7.78-7.78 2.81-2.81c.8-.78.8-2.07 0-2.86zM5.41 20L4 18.59l7.72-7.72 1.47 1.35L5.41 20z\"/>\n",
              "  </svg>\n",
              "      </button>\n",
              "      \n",
              "  <style>\n",
              "    .colab-df-container {\n",
              "      display:flex;\n",
              "      flex-wrap:wrap;\n",
              "      gap: 12px;\n",
              "    }\n",
              "\n",
              "    .colab-df-convert {\n",
              "      background-color: #E8F0FE;\n",
              "      border: none;\n",
              "      border-radius: 50%;\n",
              "      cursor: pointer;\n",
              "      display: none;\n",
              "      fill: #1967D2;\n",
              "      height: 32px;\n",
              "      padding: 0 0 0 0;\n",
              "      width: 32px;\n",
              "    }\n",
              "\n",
              "    .colab-df-convert:hover {\n",
              "      background-color: #E2EBFA;\n",
              "      box-shadow: 0px 1px 2px rgba(60, 64, 67, 0.3), 0px 1px 3px 1px rgba(60, 64, 67, 0.15);\n",
              "      fill: #174EA6;\n",
              "    }\n",
              "\n",
              "    [theme=dark] .colab-df-convert {\n",
              "      background-color: #3B4455;\n",
              "      fill: #D2E3FC;\n",
              "    }\n",
              "\n",
              "    [theme=dark] .colab-df-convert:hover {\n",
              "      background-color: #434B5C;\n",
              "      box-shadow: 0px 1px 3px 1px rgba(0, 0, 0, 0.15);\n",
              "      filter: drop-shadow(0px 1px 2px rgba(0, 0, 0, 0.3));\n",
              "      fill: #FFFFFF;\n",
              "    }\n",
              "  </style>\n",
              "\n",
              "      <script>\n",
              "        const buttonEl =\n",
              "          document.querySelector('#df-51256d90-9295-42b7-99f3-0f9432744cd4 button.colab-df-convert');\n",
              "        buttonEl.style.display =\n",
              "          google.colab.kernel.accessAllowed ? 'block' : 'none';\n",
              "\n",
              "        async function convertToInteractive(key) {\n",
              "          const element = document.querySelector('#df-51256d90-9295-42b7-99f3-0f9432744cd4');\n",
              "          const dataTable =\n",
              "            await google.colab.kernel.invokeFunction('convertToInteractive',\n",
              "                                                     [key], {});\n",
              "          if (!dataTable) return;\n",
              "\n",
              "          const docLinkHtml = 'Like what you see? Visit the ' +\n",
              "            '<a target=\"_blank\" href=https://colab.research.google.com/notebooks/data_table.ipynb>data table notebook</a>'\n",
              "            + ' to learn more about interactive tables.';\n",
              "          element.innerHTML = '';\n",
              "          dataTable['output_type'] = 'display_data';\n",
              "          await google.colab.output.renderOutput(dataTable, element);\n",
              "          const docLink = document.createElement('div');\n",
              "          docLink.innerHTML = docLinkHtml;\n",
              "          element.appendChild(docLink);\n",
              "        }\n",
              "      </script>\n",
              "    </div>\n",
              "  </div>\n",
              "  "
            ]
          },
          "metadata": {},
          "execution_count": 5
        }
      ]
    },
    {
      "cell_type": "code",
      "source": [
        "# create vocab\n",
        "vocab = {word: i+1 for i, word in enumerate(set(' '.join(df['clean_tweet']).split()))}\n",
        "len(vocab)"
      ],
      "metadata": {
        "colab": {
          "base_uri": "https://localhost:8080/"
        },
        "id": "yAoTi13OwiSE",
        "outputId": "39d6ddfa-2cfc-4b65-ec76-42e13953cdd9"
      },
      "execution_count": null,
      "outputs": [
        {
          "output_type": "execute_result",
          "data": {
            "text/plain": [
              "15797"
            ]
          },
          "metadata": {},
          "execution_count": 6
        }
      ]
    },
    {
      "cell_type": "code",
      "source": [
        "# check unique vocab\n",
        "df.label.unique()"
      ],
      "metadata": {
        "colab": {
          "base_uri": "https://localhost:8080/"
        },
        "id": "Qhw86J7O2lFV",
        "outputId": "2f5ce44f-7d57-4053-c2b5-b30682b41286"
      },
      "execution_count": null,
      "outputs": [
        {
          "output_type": "execute_result",
          "data": {
            "text/plain": [
              "array([3, 4, 0, 2, 1, 5])"
            ]
          },
          "metadata": {},
          "execution_count": 7
        }
      ]
    },
    {
      "cell_type": "code",
      "source": [
        "# hyperparameters\n",
        "embedding_dim = 128\n",
        "hidden_dim = 256\n",
        "num_layers = 2\n",
        "num_classes = 6\n",
        "batch_size = 512"
      ],
      "metadata": {
        "id": "fqeKig2CTa9x"
      },
      "execution_count": null,
      "outputs": []
    },
    {
      "cell_type": "code",
      "source": [
        "# create tokenizer\n",
        "tokenizer = Tokenizer()\n",
        "tokenizer.fit_on_texts(df.clean_tweet.to_list())\n",
        "word_index = tokenizer.word_index\n",
        "len(word_index)"
      ],
      "metadata": {
        "colab": {
          "base_uri": "https://localhost:8080/"
        },
        "id": "iaLlUTRoulNW",
        "outputId": "fcfe7f08-eb9c-4454-91fe-e1c84bac0eb5"
      },
      "execution_count": null,
      "outputs": [
        {
          "output_type": "execute_result",
          "data": {
            "text/plain": [
              "15797"
            ]
          },
          "metadata": {},
          "execution_count": 9
        }
      ]
    },
    {
      "cell_type": "code",
      "source": [
        "# tokenize text and do pedding\n",
        "x =  tokenizer.texts_to_sequences(df.clean_tweet.to_list())\n",
        "x = pad_sequences(x, maxlen=20, padding='post', truncating='post')\n",
        "y = df.label.values\n",
        "print(x.shape)\n",
        "print(y.shape)"
      ],
      "metadata": {
        "colab": {
          "base_uri": "https://localhost:8080/"
        },
        "id": "0ywWT7zjulK1",
        "outputId": "bb46b131-e57f-4ae8-91e5-97936e95b3e7"
      },
      "execution_count": null,
      "outputs": [
        {
          "output_type": "stream",
          "name": "stdout",
          "text": [
            "(22408, 20)\n",
            "(22408,)\n"
          ]
        }
      ]
    },
    {
      "cell_type": "code",
      "source": [
        "df.length.hist()\n",
        "plt.title(\"Histogram of sentence length\")\n",
        "plt.xlabel(\"length of sentence\")"
      ],
      "metadata": {
        "colab": {
          "base_uri": "https://localhost:8080/",
          "height": 490
        },
        "id": "SQplvPalQcOW",
        "outputId": "c31eda2f-2ecf-4ac7-d559-32e0c3dd8af3"
      },
      "execution_count": 108,
      "outputs": [
        {
          "output_type": "execute_result",
          "data": {
            "text/plain": [
              "Text(0.5, 0, 'length of sentence')"
            ]
          },
          "metadata": {},
          "execution_count": 108
        },
        {
          "output_type": "display_data",
          "data": {
            "text/plain": [
              "<Figure size 640x480 with 1 Axes>"
            ],
            "image/png": "[encoded data removed]"
          },
          "metadata": {}
        }
      ]
    },
    {
      "cell_type": "code",
      "source": [
        "for i in range(5):\n",
        "  print(x[i])"
      ],
      "metadata": {
        "colab": {
          "base_uri": "https://localhost:8080/"
        },
        "id": "s9j5029-8BT8",
        "outputId": "070b6e1d-5f9c-4fdd-ee70-ef52e815a9c0"
      },
      "execution_count": null,
      "outputs": [
        {
          "output_type": "stream",
          "name": "stdout",
          "text": [
            "[   6 6236  873 5054  172   27  254  152    0    0    0    0    0    0\n",
            "    0    0    0    0    0    0]\n",
            "[ 27 402  12 955  24  26 115  58 874 408  36   3 559 936   7 210 640  36\n",
            " 836   0]\n",
            "[  82  545   93 2389   55  875   27    3 3456  121    6   27    0    0\n",
            "    0    0    0    0    0    0]\n",
            "[  25  130 1051   11  956 1864  268   24  546  876   11 3817   92 1865\n",
            "   38  290   27    0    0    0]\n",
            "[2236  354   45   27 1094   21   18 2921  356 4319 8508 2390  176  218\n",
            "  170  763  877 4320    0    0]\n"
          ]
        }
      ]
    },
    {
      "cell_type": "code",
      "source": [
        "# split the data into train and test\n",
        "X_train, X_test, y_train, y_test = train_test_split(x, y, test_size = 0.20, random_state=21, stratify=y)\n",
        "print(X_train.shape)\n",
        "print(y_train.shape)\n",
        "print(X_test.shape)\n",
        "print(y_test.shape)"
      ],
      "metadata": {
        "colab": {
          "base_uri": "https://localhost:8080/"
        },
        "id": "UJ2HykKbulFl",
        "outputId": "9505c3c1-4d30-48cf-b668-63c42097372e"
      },
      "execution_count": null,
      "outputs": [
        {
          "output_type": "stream",
          "name": "stdout",
          "text": [
            "(17926, 20)\n",
            "(17926,)\n",
            "(4482, 20)\n",
            "(4482,)\n"
          ]
        }
      ]
    },
    {
      "cell_type": "code",
      "source": [
        "# create LSTM model\n",
        "model = Sequential()\n",
        "model.add(Embedding(input_dim=len(vocab), output_dim=128))\n",
        "model.add(SpatialDropout1D(0.7))\n",
        "model.add(LSTM(256, dropout=0.6, recurrent_dropout=0.6))\n",
        "model.add(Dense(100, activation='relu'))\n",
        "model.add(Dropout(0.6))\n",
        "model.add(Dense(6, activation='softmax'))\n",
        "opt = keras.optimizers.Adam(learning_rate=0.001)\n",
        "model.compile(loss='sparse_categorical_crossentropy', optimizer=opt, metrics=['accuracy'])\n",
        "model.summary()"
      ],
      "metadata": {
        "colab": {
          "base_uri": "https://localhost:8080/"
        },
        "id": "LgWcBYjGulDC",
        "outputId": "1b2d84cb-ab9e-4af4-8f8a-1f535de8ef4f"
      },
      "execution_count": null,
      "outputs": [
        {
          "output_type": "stream",
          "name": "stderr",
          "text": [
            "WARNING:tensorflow:Layer lstm_7 will not use cuDNN kernels since it doesn't meet the criteria. It will use a generic GPU kernel as fallback when running on GPU.\n"
          ]
        },
        {
          "output_type": "stream",
          "name": "stdout",
          "text": [
            "Model: \"sequential_7\"\n",
            "_________________________________________________________________\n",
            " Layer (type)                Output Shape              Param #   \n",
            "=================================================================\n",
            " embedding_7 (Embedding)     (None, None, 128)         2022016   \n",
            "                                                                 \n",
            " spatial_dropout1d_7 (Spatia  (None, None, 128)        0         \n",
            " lDropout1D)                                                     \n",
            "                                                                 \n",
            " lstm_7 (LSTM)               (None, 256)               394240    \n",
            "                                                                 \n",
            " dense_21 (Dense)            (None, 100)               25700     \n",
            "                                                                 \n",
            " dropout_14 (Dropout)        (None, 100)               0         \n",
            "                                                                 \n",
            " dense_22 (Dense)            (None, 6)                 606       \n",
            "                                                                 \n",
            "=================================================================\n",
            "Total params: 2,442,562\n",
            "Trainable params: 2,442,562\n",
            "Non-trainable params: 0\n",
            "_________________________________________________________________\n"
          ]
        }
      ]
    },
    {
      "cell_type": "code",
      "source": [
        "# train the model\n",
        "history = model.fit(X_train, y_train, epochs=30, validation_split=0.1, batch_size=512, callbacks=[EarlyStopping(monitor='val_loss', patience=5)])"
      ],
      "metadata": {
        "colab": {
          "base_uri": "https://localhost:8080/"
        },
        "id": "WIhikhrjulAl",
        "outputId": "85ae11bd-c83a-4d32-f413-a194f73d60d8"
      },
      "execution_count": null,
      "outputs": [
        {
          "output_type": "stream",
          "name": "stdout",
          "text": [
            "Epoch 1/30\n",
            "32/32 [==============================] - 8s 258ms/step - loss: 1.4817 - accuracy: 0.3627 - val_loss: 1.4476 - val_accuracy: 0.3681\n",
            "Epoch 2/30\n",
            "32/32 [==============================] - 9s 273ms/step - loss: 1.3643 - accuracy: 0.3831 - val_loss: 1.1918 - val_accuracy: 0.4283\n",
            "Epoch 3/30\n",
            "32/32 [==============================] - 6s 178ms/step - loss: 1.2103 - accuracy: 0.4288 - val_loss: 1.0888 - val_accuracy: 0.4802\n",
            "Epoch 4/30\n",
            "32/32 [==============================] - 8s 236ms/step - loss: 1.1125 - accuracy: 0.4721 - val_loss: 1.0786 - val_accuracy: 0.4752\n",
            "Epoch 5/30\n",
            "32/32 [==============================] - 9s 280ms/step - loss: 1.0558 - accuracy: 0.5121 - val_loss: 1.0124 - val_accuracy: 0.5683\n",
            "Epoch 6/30\n",
            "32/32 [==============================] - 12s 351ms/step - loss: 1.0087 - accuracy: 0.5484 - val_loss: 0.9708 - val_accuracy: 0.6051\n",
            "Epoch 7/30\n",
            "32/32 [==============================] - 9s 299ms/step - loss: 0.9368 - accuracy: 0.6060 - val_loss: 0.9159 - val_accuracy: 0.6297\n",
            "Epoch 8/30\n",
            "32/32 [==============================] - 9s 283ms/step - loss: 0.8497 - accuracy: 0.6589 - val_loss: 0.7712 - val_accuracy: 0.7133\n",
            "Epoch 9/30\n",
            "32/32 [==============================] - 7s 206ms/step - loss: 0.7574 - accuracy: 0.7153 - val_loss: 0.7101 - val_accuracy: 0.7568\n",
            "Epoch 10/30\n",
            "32/32 [==============================] - 7s 223ms/step - loss: 0.6745 - accuracy: 0.7582 - val_loss: 0.6463 - val_accuracy: 0.7830\n",
            "Epoch 11/30\n",
            "32/32 [==============================] - 4s 137ms/step - loss: 0.6089 - accuracy: 0.7775 - val_loss: 0.5873 - val_accuracy: 0.8193\n",
            "Epoch 12/30\n",
            "32/32 [==============================] - 5s 153ms/step - loss: 0.5367 - accuracy: 0.8116 - val_loss: 0.5256 - val_accuracy: 0.8422\n",
            "Epoch 13/30\n",
            "32/32 [==============================] - 7s 232ms/step - loss: 0.5041 - accuracy: 0.8330 - val_loss: 0.5508 - val_accuracy: 0.8427\n",
            "Epoch 14/30\n",
            "32/32 [==============================] - 7s 209ms/step - loss: 0.4530 - accuracy: 0.8502 - val_loss: 0.4726 - val_accuracy: 0.8611\n",
            "Epoch 15/30\n",
            "32/32 [==============================] - 13s 373ms/step - loss: 0.4234 - accuracy: 0.8633 - val_loss: 0.4757 - val_accuracy: 0.8572\n",
            "Epoch 16/30\n",
            "32/32 [==============================] - 10s 335ms/step - loss: 0.3921 - accuracy: 0.8726 - val_loss: 0.4870 - val_accuracy: 0.8611\n",
            "Epoch 17/30\n",
            "32/32 [==============================] - 7s 199ms/step - loss: 0.3798 - accuracy: 0.8799 - val_loss: 0.4507 - val_accuracy: 0.8667\n",
            "Epoch 18/30\n",
            "32/32 [==============================] - 4s 140ms/step - loss: 0.3520 - accuracy: 0.8860 - val_loss: 0.4356 - val_accuracy: 0.8728\n",
            "Epoch 19/30\n",
            "32/32 [==============================] - 3s 101ms/step - loss: 0.3277 - accuracy: 0.8963 - val_loss: 0.4328 - val_accuracy: 0.8773\n",
            "Epoch 20/30\n",
            "32/32 [==============================] - 4s 120ms/step - loss: 0.3107 - accuracy: 0.9047 - val_loss: 0.4429 - val_accuracy: 0.8857\n",
            "Epoch 21/30\n",
            "32/32 [==============================] - 6s 176ms/step - loss: 0.2973 - accuracy: 0.9096 - val_loss: 0.4367 - val_accuracy: 0.8779\n",
            "Epoch 22/30\n",
            "32/32 [==============================] - 4s 114ms/step - loss: 0.2776 - accuracy: 0.9136 - val_loss: 0.4342 - val_accuracy: 0.8784\n",
            "Epoch 23/30\n",
            "32/32 [==============================] - 3s 107ms/step - loss: 0.2679 - accuracy: 0.9181 - val_loss: 0.4017 - val_accuracy: 0.8840\n",
            "Epoch 24/30\n",
            "32/32 [==============================] - 6s 176ms/step - loss: 0.2583 - accuracy: 0.9214 - val_loss: 0.4294 - val_accuracy: 0.8801\n",
            "Epoch 25/30\n",
            "32/32 [==============================] - 4s 111ms/step - loss: 0.2419 - accuracy: 0.9239 - val_loss: 0.4508 - val_accuracy: 0.8834\n",
            "Epoch 26/30\n",
            "32/32 [==============================] - 4s 106ms/step - loss: 0.2294 - accuracy: 0.9300 - val_loss: 0.4564 - val_accuracy: 0.8823\n",
            "Epoch 27/30\n",
            "32/32 [==============================] - 3s 109ms/step - loss: 0.2303 - accuracy: 0.9289 - val_loss: 0.4151 - val_accuracy: 0.8834\n",
            "Epoch 28/30\n",
            "32/32 [==============================] - 5s 146ms/step - loss: 0.2141 - accuracy: 0.9376 - val_loss: 0.4228 - val_accuracy: 0.8840\n"
          ]
        }
      ]
    },
    {
      "cell_type": "code",
      "source": [
        "# get loss and accuracy values\n",
        "train_loss = history.history['loss']\n",
        "val_loss = history.history['val_loss']\n",
        "plt.plot(range(1, 29), train_loss, label='train loss')\n",
        "plt.plot(range(1, 29), val_loss, label='val loss')\n",
        "plt.xlabel(\"No. of epochs\")\n",
        "plt.ylabel(\"Loss\")\n",
        "plt.legend()\n",
        "plt.title(\"LSTM model train and validation loss\")\n",
        "plt.show()"
      ],
      "metadata": {
        "colab": {
          "base_uri": "https://localhost:8080/",
          "height": 472
        },
        "id": "h9bI4A0mhz90",
        "outputId": "c1a0b9dd-f355-4dcd-fed5-a4307ae89494"
      },
      "execution_count": null,
      "outputs": [
        {
          "output_type": "display_data",
          "data": {
            "text/plain": [
              "<Figure size 640x480 with 1 Axes>"
            ],
            "image/png": "[encoded data removed]"
          },
          "metadata": {}
        }
      ]
    },
    {
      "cell_type": "code",
      "source": [
        "# model prediction on test set\n",
        "y_pred = model.predict(X_test)\n",
        "y_pred = [np.argmax(y) for y in y_pred]\n",
        "report = classification_report(y_pred, y_test)\n",
        "print(report)"
      ],
      "metadata": {
        "colab": {
          "base_uri": "https://localhost:8080/"
        },
        "id": "Pos-8UzaZPsw",
        "outputId": "05bd089b-2ee1-4871-c172-281d2fc66f94"
      },
      "execution_count": null,
      "outputs": [
        {
          "output_type": "stream",
          "name": "stdout",
          "text": [
            "141/141 [==============================] - 1s 7ms/step\n",
            "              precision    recall  f1-score   support\n",
            "\n",
            "           0       0.82      0.86      0.84       593\n",
            "           1       0.81      0.93      0.86        96\n",
            "           2       0.83      0.85      0.84       489\n",
            "           3       0.93      0.90      0.92      1758\n",
            "           4       0.91      0.90      0.90      1396\n",
            "           5       0.70      0.77      0.73       150\n",
            "\n",
            "    accuracy                           0.89      4482\n",
            "   macro avg       0.83      0.87      0.85      4482\n",
            "weighted avg       0.89      0.89      0.89      4482\n",
            "\n"
          ]
        }
      ]
    },
    {
      "cell_type": "code",
      "source": [
        "# confusion matrix\n",
        "plt.figure(figsize=(4, 3))\n",
        "sns.heatmap(confusion_matrix(y_test, y_pred), annot=True, fmt='.0f')\n",
        "plt.show()"
      ],
      "metadata": {
        "colab": {
          "base_uri": "https://localhost:8080/",
          "height": 291
        },
        "id": "mphPrN_1liMH",
        "outputId": "a25b0a48-29c7-46e4-d7ae-388f64465b6a"
      },
      "execution_count": 97,
      "outputs": [
        {
          "output_type": "display_data",
          "data": {
            "text/plain": [
              "<Figure size 400x300 with 2 Axes>"
            ],
            "image/png": "[encoded data removed]"
          },
          "metadata": {}
        }
      ]
    },
    {
      "cell_type": "code",
      "source": [
        "  # save the mode;\n",
        "model.save(\"/content/drive/MyDrive/IR Project/LSTM_model.h5\")\n",
        "print(\"model saved\")"
      ],
      "metadata": {
        "id": "TlpSiXs2wPM3",
        "colab": {
          "base_uri": "https://localhost:8080/"
        },
        "outputId": "936e6ee9-a8b2-443d-e240-eacfdaa7c185"
      },
      "execution_count": 98,
      "outputs": [
        {
          "output_type": "stream",
          "name": "stdout",
          "text": [
            "model saved\n"
          ]
        }
      ]
    },
    {
      "cell_type": "code",
      "source": [
        "# load the saved model\n",
        "loaded_model = keras.models.load_model(\"/content/drive/MyDrive/IR Project/LSTM_model.h5\")\n",
        "loaded_model"
      ],
      "metadata": {
        "id": "6InTVtn1x7Hm",
        "colab": {
          "base_uri": "https://localhost:8080/"
        },
        "outputId": "a339dd43-3210-49b0-bb9d-8675e0964347"
      },
      "execution_count": 101,
      "outputs": [
        {
          "output_type": "stream",
          "name": "stderr",
          "text": [
            "WARNING:tensorflow:Layer lstm_7 will not use cuDNN kernels since it doesn't meet the criteria. It will use a generic GPU kernel as fallback when running on GPU.\n"
          ]
        },
        {
          "output_type": "execute_result",
          "data": {
            "text/plain": [
              "<keras.engine.sequential.Sequential at 0x7fe0a9f59d30>"
            ]
          },
          "metadata": {},
          "execution_count": 101
        }
      ]
    }
  ]
}